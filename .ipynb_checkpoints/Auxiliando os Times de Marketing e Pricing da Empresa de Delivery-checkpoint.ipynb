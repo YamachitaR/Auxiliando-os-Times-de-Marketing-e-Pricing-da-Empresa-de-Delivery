{
 "cells": [
  {
   "cell_type": "markdown",
   "id": "741456a4-a14b-4c89-b75d-5e047f2a197d",
   "metadata": {
    "jp-MarkdownHeadingCollapsed": true
   },
   "source": [
    "# Auxiliando os Times de Marketing e Pricing da Empresa de Delivery"
   ]
  },
  {
   "cell_type": "markdown",
   "id": "8853c387-e445-42ef-88e7-63fac886a153",
   "metadata": {},
   "source": [
    "# Contexto\n",
    "\n",
    "## [Universidade dos Dados](https://www.universidadedosdados.com/)\n",
    "\n",
    "Este Desafio foi proposto pela  [https://www.universidadedosdados.com/](https://www.universidadedosdados.com/)\n",
    "\n",
    "\n",
    "## Desafio \n",
    "\n",
    "Nós estamos trabalhando em uma empresa de delivery, num time de dados centralizado que atende a diversas áreas e recebemos algumas demandas:\n",
    "\n",
    "1. Numa ação de marketing, para atrair mais entregadores, vamos dar uma bonificação para os 20 entregadores que possuem maior distância percorrida ao todo. A bonificação vai variar de acordo com o tipo de profissional que ele é e o modelo que ele usa para se locomover (moto, bike, etc). Levante essas informações.\n",
    "1. Além disso, o time de Pricing precisa ajustar os valores pagos aos entregadores. Para isso, eles precisam da distribuição da distância média percorrida pelos motoqueiros separada por estado, já que cada região terá seu preço.\n",
    "1. Por fim, o CFO precisa de alguns indicadores de receita para apresentar para a diretoria executiva. Dentre esses indicadores, vocês precisarão levantar (1) a receita média e total separada por tipo (Food x Good), (2) A receita média e total por estado. Ou seja, são 4 tabelas ao todo.\n",
    "2. Se a empresa tem um gasto fixo de 5 reais por entrega, recebe 15% do valor de cada entrega como receita e, do total do lucro, distribui 20% em forma de bônus para os 2 mil funcionários, quanto cada um irá receber no período contido no dataset?"
   ]
  },
  {
   "cell_type": "markdown",
   "id": "64432e12-a285-488a-9abf-b320eb63b202",
   "metadata": {},
   "source": [
    "## Fonte do DataSet\n",
    " Kaggle: [https://www.kaggle.com/datasets/nosbielcs/brazilian-delivery-center](https://www.kaggle.com/datasets/nosbielcs/brazilian-delivery-center)"
   ]
  },
  {
   "cell_type": "markdown",
   "id": "c1408910-e75d-4bc3-adda-8c474dd1c3da",
   "metadata": {},
   "source": [
    "## Descrição dos datasets\n",
    "\n",
    "- channels: Este dataset possui informações sobre os canais de venda (marketplaces) onde são vendidos os good e food de nossos lojistas.\n",
    "- deliveries: Este dataset possui informações sobre as entregas realizadas por nossos entregadores parceiros.\n",
    "- drivers: Este dataset possui informações sobre os entregadores parceiros. Eles ficam em nossos hubs e toda vez que um pedido é processado, são eles fazem as entregas na casa dos consumidores.\n",
    "- hubs: Este dataset possui informações sobre os hubs do Delivery Center. Entenda que os Hubs são os centros de distribuição dos pedidos e é dali que saem as entregas.\n",
    "- orders: Este dataset possui informações sobre as vendas processadas através da plataforma do Delivery Center.\n",
    "- payments: Este dataset possui informações sobre os pagamentos realizados ao Delivery Center.\n",
    "- stores: Este dataset possui informações sobre os lojistas. Eles utilizam a Plataforma do Delivery Center para vender seus itens (good e/ou food) nos marketplaces."
   ]
  },
  {
   "cell_type": "markdown",
   "id": "92c88737-01c5-4d86-80f5-137b4c8792f3",
   "metadata": {},
   "source": [
    "# Let's go \n",
    "## Setup"
   ]
  },
  {
   "cell_type": "code",
   "execution_count": 1,
   "id": "7aa53937-dc07-46c2-8a06-4327a4a51d02",
   "metadata": {},
   "outputs": [],
   "source": [
    "import os\n",
    "import pandas as pd"
   ]
  },
  {
   "cell_type": "markdown",
   "id": "e46451da-4475-4314-a926-f558cdcc56a8",
   "metadata": {},
   "source": [
    "## Carregando"
   ]
  },
  {
   "cell_type": "code",
   "execution_count": 20,
   "id": "3fac6e76-da88-4280-9270-88facee961d0",
   "metadata": {},
   "outputs": [],
   "source": [
    "# Diretório contendo os arquivos\n",
    "dir_path = 'dataset'\n",
    "\n",
    "# Inicializando um dicionário para armazenar os DataFrames\n",
    "dataframes = {}\n",
    "\n",
    "# Iterar sobre os arquivos no diretório\n",
    "for filename in os.listdir(dir_path):\n",
    "    if filename.endswith('.csv'):  # Filtra para arquivos CSV, mas você pode ajustar para outros tipos\n",
    "        file_path = os.path.join(dir_path, filename)\n",
    "        # Nome do DataFrame será o nome do arquivo sem extensão\n",
    "        df_name = os.path.splitext(filename)[0]\n",
    "        # Carregar o arquivo CSV no DataFrame\n",
    "        # Tentar carregar o arquivo CSV no DataFrame com diferentes codificações\n",
    "        try:\n",
    "            dataframes[df_name] = pd.read_csv(file_path, encoding='utf-8')\n",
    "        except UnicodeDecodeError:\n",
    "            # Se UTF-8 falhar, tentar com outra codificação\n",
    "            dataframes[df_name] = pd.read_csv(file_path, encoding='ISO-8859-1')\n",
    "    "
   ]
  },
  {
   "cell_type": "code",
   "execution_count": 3,
   "id": "d9af966e-2e93-4f9e-84dc-a2243e4fbe3f",
   "metadata": {},
   "outputs": [
    {
     "name": "stdout",
     "output_type": "stream",
     "text": [
      "dict_keys(['stores', 'payments', 'channels', 'hubs', 'drivers', 'orders', 'deliveries'])\n",
      "+++++stores++++++\n",
      "   store_id  hub_id         store_name store_segment  store_plan_price  \\\n",
      "0         3       2            CUMIURI          FOOD               0.0   \n",
      "1         6       3  PIMGUCIS DA VIVA           FOOD               0.0   \n",
      "2         8       3          RASMUR S           FOOD               0.0   \n",
      "3        53       8        PAPA SUCIS           FOOD               0.0   \n",
      "4        54       8      VUZPI PAZZIS           FOOD               0.0   \n",
      "\n",
      "   store_latitude  store_longitude  \n",
      "0             NaN              NaN  \n",
      "1      -30.037415       -51.203520  \n",
      "2      -30.037415       -51.203520  \n",
      "3      -22.921475       -43.234822  \n",
      "4      -22.921475       -43.234822  \n",
      "(951, 7)\n",
      "+++++payments++++++\n",
      "   payment_id  payment_order_id  payment_amount  payment_fee payment_method  \\\n",
      "0     4427917          68410055          118.44         0.00        VOUCHER   \n",
      "1     4427918          68410055          394.81         7.90         ONLINE   \n",
      "2     4427941          68412721          206.95         5.59         ONLINE   \n",
      "3     4427948          68413340           58.80         1.59         ONLINE   \n",
      "4     4427955          68414018           45.80         0.92         ONLINE   \n",
      "\n",
      "  payment_status  \n",
      "0           PAID  \n",
      "1           PAID  \n",
      "2           PAID  \n",
      "3           PAID  \n",
      "4           PAID  \n",
      "(400834, 6)\n",
      "+++++channels++++++\n",
      "   channel_id channel_name channel_type\n",
      "0           1  OTHER PLACE  OWN CHANNEL\n",
      "1           2  PHONE PLACE  OWN CHANNEL\n",
      "2           3  WHATS PLACE  OWN CHANNEL\n",
      "3           4   FACE PLACE  OWN CHANNEL\n",
      "4           5   FOOD PLACE  MARKETPLACE\n",
      "(40, 3)\n",
      "+++++hubs++++++\n",
      "   hub_id         hub_name        hub_city hub_state  hub_latitude  \\\n",
      "0       2    BLUE SHOPPING    PORTO ALEGRE        RS    -30.047415   \n",
      "1       3   GREEN SHOPPING    PORTO ALEGRE        RS    -30.037415   \n",
      "2       4     RED SHOPPING    PORTO ALEGRE        RS    -30.021948   \n",
      "3       5    FUNK SHOPPING  RIO DE JANEIRO        RJ    -23.000750   \n",
      "4       8  GOLDEN SHOPPING  RIO DE JANEIRO        RJ    -22.921475   \n",
      "\n",
      "   hub_longitude  \n",
      "0     -51.213510  \n",
      "1     -51.203520  \n",
      "2     -51.208382  \n",
      "3     -43.318282  \n",
      "4     -43.234774  \n",
      "(32, 6)\n",
      "+++++drivers++++++\n",
      "   driver_id driver_modal        driver_type\n",
      "0        133      MOTOBOY  LOGISTIC OPERATOR\n",
      "1        138      MOTOBOY          FREELANCE\n",
      "2        140      MOTOBOY          FREELANCE\n",
      "3        143        BIKER          FREELANCE\n",
      "4        148      MOTOBOY          FREELANCE\n",
      "(4824, 3)\n",
      "+++++orders++++++\n",
      "   order_id  store_id  channel_id  payment_order_id  delivery_order_id  \\\n",
      "0  68405119      3512           5          68405119           68405119   \n",
      "1  68405123      3512           5          68405123           68405123   \n",
      "2  68405206      3512           5          68405206           68405206   \n",
      "3  68405465      3401           5          68405465           68405465   \n",
      "4  68406064      3401           5          68406064           68406064   \n",
      "\n",
      "  order_status  order_amount  order_delivery_fee  order_delivery_cost  \\\n",
      "0     CANCELED          62.7                 0.0                  NaN   \n",
      "1     CANCELED          62.7                 0.0                  NaN   \n",
      "2     CANCELED         115.5                 0.0                  NaN   \n",
      "3     CANCELED          55.9                 0.0                  NaN   \n",
      "4     CANCELED          37.9                 0.0                  NaN   \n",
      "\n",
      "   order_created_hour  ...  order_moment_delivering  order_moment_delivered  \\\n",
      "0                   0  ...                      NaN                     NaN   \n",
      "1                   0  ...                      NaN                     NaN   \n",
      "2                   0  ...                      NaN                     NaN   \n",
      "3                   0  ...                      NaN                     NaN   \n",
      "4                   0  ...                      NaN                     NaN   \n",
      "\n",
      "   order_moment_finished  order_metric_collected_time  \\\n",
      "0                    NaN                          NaN   \n",
      "1                    NaN                          NaN   \n",
      "2                    NaN                          NaN   \n",
      "3                    NaN                          NaN   \n",
      "4                    NaN                          NaN   \n",
      "\n",
      "  order_metric_paused_time order_metric_production_time  \\\n",
      "0                      NaN                          NaN   \n",
      "1                      NaN                          NaN   \n",
      "2                      NaN                          NaN   \n",
      "3                      NaN                          NaN   \n",
      "4                      NaN                          NaN   \n",
      "\n",
      "  order_metric_walking_time order_metric_expediton_speed_time  \\\n",
      "0                       NaN                               NaN   \n",
      "1                       NaN                               NaN   \n",
      "2                       NaN                               NaN   \n",
      "3                       NaN                               NaN   \n",
      "4                       NaN                               NaN   \n",
      "\n",
      "  order_metric_transit_time order_metric_cycle_time  \n",
      "0                       NaN                     NaN  \n",
      "1                       NaN                     NaN  \n",
      "2                       NaN                     NaN  \n",
      "3                       NaN                     NaN  \n",
      "4                       NaN                     NaN  \n",
      "\n",
      "[5 rows x 29 columns]\n",
      "(368999, 29)\n",
      "+++++deliveries++++++\n",
      "   delivery_id  delivery_order_id  driver_id  delivery_distance_meters  \\\n",
      "0      2174658           68413340     8378.0                    5199.0   \n",
      "1      2174660           68414309     2473.0                     410.0   \n",
      "2      2174661           68416230     7615.0                    3784.0   \n",
      "3      2174663           68412721     8378.0                    5714.0   \n",
      "4      2174675           68414018    10463.0                    3746.0   \n",
      "\n",
      "  delivery_status  \n",
      "0       DELIVERED  \n",
      "1       DELIVERED  \n",
      "2       DELIVERED  \n",
      "3       DELIVERED  \n",
      "4       DELIVERED  \n",
      "(378843, 5)\n"
     ]
    }
   ],
   "source": [
    "chaves = dataframes.keys()\n",
    "\n",
    "print(chaves)\n",
    "\n",
    "for chave in chaves:\n",
    "    print(f'+++++{chave}++++++')\n",
    "    print(dataframes[chave].head())\n",
    "    print(dataframes[chave].shape)\n",
    "    "
   ]
  },
  {
   "cell_type": "markdown",
   "id": "72c8d213-47d3-4334-8018-eb89ca0df633",
   "metadata": {},
   "source": [
    "## Questão 1\n",
    "\n",
    "Em uma ação de marketing para atrair mais entregadores, iremos oferecer uma bonificação aos 20 entregadores que percorreram a maior distância total. O valor da bonificação será ajustado de acordo com o tipo de entregador e o meio de transporte que utilizam (moto, bicicleta, etc). Levante as informações necessárias para identificar esses profissionais e calcular a bonificação correspondente."
   ]
  },
  {
   "cell_type": "markdown",
   "id": "753ca62d-c6c5-48d4-a7ff-e5d896fc9d1e",
   "metadata": {},
   "source": [
    "Para responder a essa pergunta, utilizaremos os seguintes datasets:\n",
    "\n",
    "- **`drivers`** com as colunas:\n",
    "    - **`driver_modal`**: Representa o meio de transporte utilizado pelo entregador.\n",
    "    - **`driver_id`**: Identificação única do entregador.\n",
    "\n",
    "\n",
    "\n"
   ]
  },
  {
   "cell_type": "markdown",
   "id": "f9aa8782-771f-4f03-a12f-5332409480aa",
   "metadata": {},
   "source": [
    "\n",
    "- **`deliveries`** com as colunas:\n",
    "    - **`driver_id`**: Identificação única do entregador (relacionada ao dataset `drivers`).\n",
    "    - **`delivery_distance_meters`**: Distância percorrida durante a entrega, medida em metros."
   ]
  },
  {
   "cell_type": "code",
   "execution_count": 29,
   "id": "aef91c42-77d6-487b-ba51-d875dc232df6",
   "metadata": {},
   "outputs": [
    {
     "data": {
      "text/plain": [
       "0"
      ]
     },
     "execution_count": 29,
     "metadata": {},
     "output_type": "execute_result"
    }
   ],
   "source": [
    "# Verificando se têm valor nulo na coluna \"driver_id\"\n",
    "dataframes['deliveries']['driver_id'].isnull().sum()"
   ]
  },
  {
   "cell_type": "code",
   "execution_count": 28,
   "id": "b8ed2968-15c6-4e31-86e9-f07b80cb821d",
   "metadata": {},
   "outputs": [],
   "source": [
    "# Removendo valor nulo da coluna \"driver_id\" \n",
    "dataframes['deliveries']=dataframes['deliveries'].dropna(subset=['driver_id'])"
   ]
  },
  {
   "cell_type": "code",
   "execution_count": 30,
   "id": "99272a80-d172-45a1-a0bc-fa7a86e5f11e",
   "metadata": {},
   "outputs": [],
   "source": [
    "# Convertendo de float para inteiro\n",
    "dataframes['deliveries']['driver_id'] = dataframes['deliveries']['driver_id'].astype(int)"
   ]
  },
  {
   "cell_type": "code",
   "execution_count": 6,
   "id": "71a7c587-2490-4ae4-ba12-dd7e98b49586",
   "metadata": {},
   "outputs": [],
   "source": [
    "df = pd.merge(dataframes['drivers'][['driver_id', 'driver_modal']], dataframes['deliveries'][['driver_id', 'delivery_distance_meters']], on='driver_id')"
   ]
  },
  {
   "cell_type": "code",
   "execution_count": 10,
   "id": "d598ed8b-6440-453f-92c4-2606339f79f9",
   "metadata": {},
   "outputs": [
    {
     "data": {
      "text/html": [
       "<div>\n",
       "<style scoped>\n",
       "    .dataframe tbody tr th:only-of-type {\n",
       "        vertical-align: middle;\n",
       "    }\n",
       "\n",
       "    .dataframe tbody tr th {\n",
       "        vertical-align: top;\n",
       "    }\n",
       "\n",
       "    .dataframe thead th {\n",
       "        text-align: right;\n",
       "    }\n",
       "</style>\n",
       "<table border=\"1\" class=\"dataframe\">\n",
       "  <thead>\n",
       "    <tr style=\"text-align: right;\">\n",
       "      <th></th>\n",
       "      <th>driver_id</th>\n",
       "      <th>driver_modal</th>\n",
       "      <th>delivery_distance_meters</th>\n",
       "    </tr>\n",
       "  </thead>\n",
       "  <tbody>\n",
       "    <tr>\n",
       "      <th>0</th>\n",
       "      <td>133</td>\n",
       "      <td>MOTOBOY</td>\n",
       "      <td>2188.0</td>\n",
       "    </tr>\n",
       "    <tr>\n",
       "      <th>1</th>\n",
       "      <td>133</td>\n",
       "      <td>MOTOBOY</td>\n",
       "      <td>1296.0</td>\n",
       "    </tr>\n",
       "    <tr>\n",
       "      <th>2</th>\n",
       "      <td>133</td>\n",
       "      <td>MOTOBOY</td>\n",
       "      <td>2402.0</td>\n",
       "    </tr>\n",
       "    <tr>\n",
       "      <th>3</th>\n",
       "      <td>133</td>\n",
       "      <td>MOTOBOY</td>\n",
       "      <td>1871.0</td>\n",
       "    </tr>\n",
       "    <tr>\n",
       "      <th>4</th>\n",
       "      <td>133</td>\n",
       "      <td>MOTOBOY</td>\n",
       "      <td>1309.0</td>\n",
       "    </tr>\n",
       "  </tbody>\n",
       "</table>\n",
       "</div>"
      ],
      "text/plain": [
       "   driver_id driver_modal  delivery_distance_meters\n",
       "0        133      MOTOBOY                    2188.0\n",
       "1        133      MOTOBOY                    1296.0\n",
       "2        133      MOTOBOY                    2402.0\n",
       "3        133      MOTOBOY                    1871.0\n",
       "4        133      MOTOBOY                    1309.0"
      ]
     },
     "execution_count": 10,
     "metadata": {},
     "output_type": "execute_result"
    }
   ],
   "source": [
    "df.head()"
   ]
  },
  {
   "cell_type": "code",
   "execution_count": null,
   "id": "4195ba80-f53c-42ab-936f-ee50cba05619",
   "metadata": {},
   "outputs": [],
   "source": [
    "dataframes['deliveries']['driver_id'] "
   ]
  }
 ],
 "metadata": {
  "kernelspec": {
   "display_name": "Python 3 (ipykernel)",
   "language": "python",
   "name": "python3"
  },
  "language_info": {
   "codemirror_mode": {
    "name": "ipython",
    "version": 3
   },
   "file_extension": ".py",
   "mimetype": "text/x-python",
   "name": "python",
   "nbconvert_exporter": "python",
   "pygments_lexer": "ipython3",
   "version": "3.11.2"
  }
 },
 "nbformat": 4,
 "nbformat_minor": 5
}
